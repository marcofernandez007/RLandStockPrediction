{
 "cells": [
  {
   "cell_type": "markdown",
   "metadata": {
    "id": "EgaNRy_Rq0wx"
   },
   "source": [
    "# Predict stock prices  with Long short-term memory (LSTM)"
   ]
  },
  {
   "cell_type": "markdown",
   "metadata": {
    "id": "S1WPMQ_LHNQU"
   },
   "source": [
    "This simple example will show you how LSTM models predict time series data. Stock market data is a great choice for this because it's quite regular and widely available via the Internet. "
   ]
  },
  {
   "cell_type": "markdown",
   "metadata": {
    "id": "vurGbUjFwBFO"
   },
   "source": [
    "## Install requirements\n",
    "We install Tensorflow 2.0 with GPU support first"
   ]
  },
  {
   "cell_type": "code",
   "execution_count": 1,
   "metadata": {
    "colab": {
     "base_uri": "https://localhost:8080/",
     "height": 440
    },
    "id": "QSG622MbwEOJ",
    "outputId": "d8b8dfef-ad87-4ef1-f3e5-d935eac50d37"
   },
   "outputs": [
    {
     "name": "stdout",
     "output_type": "stream",
     "text": [
      "\u001b[31mERROR: Could not find a version that satisfies the requirement tensorflow-gpu==2.0.0 (from versions: 2.5.0, 2.5.1, 2.5.2, 2.5.3, 2.6.0, 2.6.1, 2.6.2, 2.6.3, 2.6.4, 2.6.5, 2.7.0rc0, 2.7.0rc1, 2.7.0, 2.7.1, 2.7.2, 2.7.3, 2.7.4, 2.8.0rc0, 2.8.0rc1, 2.8.0, 2.8.1, 2.8.2, 2.8.3, 2.8.4, 2.9.0rc0, 2.9.0rc1, 2.9.0rc2, 2.9.0, 2.9.1, 2.9.2, 2.9.3, 2.10.0rc0, 2.10.0rc1, 2.10.0rc2, 2.10.0rc3, 2.10.0, 2.10.1, 2.11.0rc0, 2.11.0rc1, 2.11.0rc2, 2.11.0, 2.12.0)\u001b[0m\n",
      "\u001b[31mERROR: No matching distribution found for tensorflow-gpu==2.0.0\u001b[0m\n"
     ]
    }
   ],
   "source": [
    "!pip install tensorflow-gpu==2.0.0"
   ]
  },
  {
   "cell_type": "code",
   "execution_count": 2,
   "metadata": {
    "colab": {
     "base_uri": "https://localhost:8080/",
     "height": 336
    },
    "id": "fmR4lwm81Vbr",
    "outputId": "41cd2608-3e63-48e0-f141-ab985099ed86"
   },
   "outputs": [
    {
     "name": "stdout",
     "output_type": "stream",
     "text": [
      "Requirement already satisfied: pandas-datareader in /home/studio-lab-user/.conda/envs/default/lib/python3.9/site-packages (0.10.0)\n",
      "Requirement already satisfied: requests>=2.19.0 in /home/studio-lab-user/.conda/envs/default/lib/python3.9/site-packages (from pandas-datareader) (2.27.1)\n",
      "Requirement already satisfied: pandas>=0.23 in /home/studio-lab-user/.conda/envs/default/lib/python3.9/site-packages (from pandas-datareader) (1.3.5)\n",
      "Requirement already satisfied: lxml in /home/studio-lab-user/.conda/envs/default/lib/python3.9/site-packages (from pandas-datareader) (4.9.2)\n",
      "Requirement already satisfied: python-dateutil>=2.7.3 in /home/studio-lab-user/.conda/envs/default/lib/python3.9/site-packages (from pandas>=0.23->pandas-datareader) (2.8.2)\n",
      "Requirement already satisfied: pytz>=2017.3 in /home/studio-lab-user/.conda/envs/default/lib/python3.9/site-packages (from pandas>=0.23->pandas-datareader) (2021.3)\n",
      "Requirement already satisfied: numpy>=1.17.3 in /home/studio-lab-user/.conda/envs/default/lib/python3.9/site-packages (from pandas>=0.23->pandas-datareader) (1.24.2)\n",
      "Requirement already satisfied: six>=1.5 in /home/studio-lab-user/.conda/envs/default/lib/python3.9/site-packages (from python-dateutil>=2.7.3->pandas>=0.23->pandas-datareader) (1.15.0)\n",
      "Requirement already satisfied: idna<4,>=2.5 in /home/studio-lab-user/.conda/envs/default/lib/python3.9/site-packages (from requests>=2.19.0->pandas-datareader) (3.3)\n",
      "Requirement already satisfied: charset-normalizer~=2.0.0 in /home/studio-lab-user/.conda/envs/default/lib/python3.9/site-packages (from requests>=2.19.0->pandas-datareader) (2.0.10)\n",
      "Requirement already satisfied: certifi>=2017.4.17 in /home/studio-lab-user/.conda/envs/default/lib/python3.9/site-packages (from requests>=2.19.0->pandas-datareader) (2021.10.8)\n",
      "Requirement already satisfied: urllib3<1.27,>=1.21.1 in /home/studio-lab-user/.conda/envs/default/lib/python3.9/site-packages (from requests>=2.19.0->pandas-datareader) (1.26.8)\n"
     ]
    }
   ],
   "source": [
    "!pip install pandas-datareader"
   ]
  },
  {
   "cell_type": "code",
   "execution_count": 76,
   "metadata": {
    "colab": {
     "base_uri": "https://localhost:8080/",
     "height": 248
    },
    "id": "hqWZAabeiLc_",
    "outputId": "2212c7d1-8f7e-4743-8da5-96d67e311cd6"
   },
   "outputs": [
    {
     "name": "stdout",
     "output_type": "stream",
     "text": [
      "\u001b[1;31mE: \u001b[0mCould not open lock file /var/lib/dpkg/lock-frontend - open (13: Permission denied)\u001b[0m\n",
      "\u001b[1;31mE: \u001b[0mUnable to acquire the dpkg frontend lock (/var/lib/dpkg/lock-frontend), are you root?\u001b[0m\n"
     ]
    }
   ],
   "source": [
    "!apt install graphviz"
   ]
  },
  {
   "cell_type": "code",
   "execution_count": 4,
   "metadata": {
    "colab": {
     "base_uri": "https://localhost:8080/",
     "height": 185
    },
    "id": "K5Wmmx6-iPUT",
    "outputId": "26040899-2528-483d-fff7-b27605078dd2"
   },
   "outputs": [
    {
     "name": "stdout",
     "output_type": "stream",
     "text": [
      "Requirement already satisfied: pydot in /home/studio-lab-user/.conda/envs/default/lib/python3.9/site-packages (1.4.2)\n",
      "Requirement already satisfied: pydot-ng in /home/studio-lab-user/.conda/envs/default/lib/python3.9/site-packages (2.0.0)\n",
      "Requirement already satisfied: pyparsing>=2.1.4 in /home/studio-lab-user/.conda/envs/default/lib/python3.9/site-packages (from pydot) (3.0.6)\n"
     ]
    }
   ],
   "source": [
    "!pip install pydot pydot-ng"
   ]
  },
  {
   "cell_type": "markdown",
   "metadata": {
    "id": "Fcl6EKdTv51W"
   },
   "source": [
    "## Introduction"
   ]
  },
  {
   "cell_type": "markdown",
   "metadata": {
    "id": "Rui0kjzEvXTV"
   },
   "source": [
    "LSTMs are very powerful in sequence prediction problems. They can store past information."
   ]
  },
  {
   "cell_type": "markdown",
   "metadata": {
    "id": "Ed7_c04-vz2f"
   },
   "source": [
    "## Loading the dataset\n",
    "I use pandas-datareader to get the historical stock prices from Yahoo! finance. For this example, I get only the historical data till the end of *training_end_data*.  "
   ]
  },
  {
   "cell_type": "code",
   "execution_count": 5,
   "metadata": {
    "id": "Hh-pO_QXqysJ"
   },
   "outputs": [
    {
     "name": "stderr",
     "output_type": "stream",
     "text": [
      "/home/studio-lab-user/.conda/envs/default/lib/python3.9/site-packages/requests/__init__.py:102: RequestsDependencyWarning: urllib3 (1.26.8) or chardet (5.0.0)/charset_normalizer (2.0.10) doesn't match a supported version!\n",
      "  warnings.warn(\"urllib3 ({}) or chardet ({})/charset_normalizer ({}) doesn't match a supported \"\n"
     ]
    }
   ],
   "source": [
    "import numpy as np\n",
    "import matplotlib.pyplot as plt\n",
    "import pandas as pd\n",
    "from pandas_datareader import data"
   ]
  },
  {
   "cell_type": "code",
   "execution_count": 6,
   "metadata": {},
   "outputs": [
    {
     "name": "stdout",
     "output_type": "stream",
     "text": [
      "/home/studio-lab-user/sagemaker-studiolab-notebooks/notebooks/transformers_doc/MyNotebooks/Untitled Folder/Stocknet\n"
     ]
    }
   ],
   "source": [
    "!pwd\n",
    "tickers = 'AAPL'\n",
    "\n",
    "start_date = '2014-01-01'\n",
    "end_date = '2015-12-31'\n",
    "\n",
    "stock_data = pd.read_csv(r'AAPL.csv')"
   ]
  },
  {
   "cell_type": "code",
   "execution_count": 7,
   "metadata": {
    "colab": {
     "base_uri": "https://localhost:8080/",
     "height": 437
    },
    "id": "Y2HpcDRd38on",
    "outputId": "ba7c7768-e873-4fdd-febc-afd0945cfd80"
   },
   "outputs": [
    {
     "data": {
      "text/html": [
       "<div>\n",
       "<style scoped>\n",
       "    .dataframe tbody tr th:only-of-type {\n",
       "        vertical-align: middle;\n",
       "    }\n",
       "\n",
       "    .dataframe tbody tr th {\n",
       "        vertical-align: top;\n",
       "    }\n",
       "\n",
       "    .dataframe thead th {\n",
       "        text-align: right;\n",
       "    }\n",
       "</style>\n",
       "<table border=\"1\" class=\"dataframe\">\n",
       "  <thead>\n",
       "    <tr style=\"text-align: right;\">\n",
       "      <th></th>\n",
       "      <th>Date</th>\n",
       "      <th>Open</th>\n",
       "      <th>High</th>\n",
       "      <th>Low</th>\n",
       "      <th>Close</th>\n",
       "      <th>Adj Close</th>\n",
       "      <th>Volume</th>\n",
       "    </tr>\n",
       "  </thead>\n",
       "  <tbody>\n",
       "    <tr>\n",
       "      <th>0</th>\n",
       "      <td>2012-09-04</td>\n",
       "      <td>95.108574</td>\n",
       "      <td>96.448570</td>\n",
       "      <td>94.928574</td>\n",
       "      <td>96.424286</td>\n",
       "      <td>87.121140</td>\n",
       "      <td>91973000</td>\n",
       "    </tr>\n",
       "    <tr>\n",
       "      <th>1</th>\n",
       "      <td>2012-09-05</td>\n",
       "      <td>96.510002</td>\n",
       "      <td>96.621429</td>\n",
       "      <td>95.657143</td>\n",
       "      <td>95.747147</td>\n",
       "      <td>86.509338</td>\n",
       "      <td>84093800</td>\n",
       "    </tr>\n",
       "    <tr>\n",
       "      <th>2</th>\n",
       "      <td>2012-09-06</td>\n",
       "      <td>96.167145</td>\n",
       "      <td>96.898575</td>\n",
       "      <td>95.828575</td>\n",
       "      <td>96.610001</td>\n",
       "      <td>87.288956</td>\n",
       "      <td>97799100</td>\n",
       "    </tr>\n",
       "    <tr>\n",
       "      <th>3</th>\n",
       "      <td>2012-09-07</td>\n",
       "      <td>96.864288</td>\n",
       "      <td>97.497147</td>\n",
       "      <td>96.538574</td>\n",
       "      <td>97.205711</td>\n",
       "      <td>87.827171</td>\n",
       "      <td>82416600</td>\n",
       "    </tr>\n",
       "    <tr>\n",
       "      <th>4</th>\n",
       "      <td>2012-09-10</td>\n",
       "      <td>97.207146</td>\n",
       "      <td>97.612854</td>\n",
       "      <td>94.585716</td>\n",
       "      <td>94.677139</td>\n",
       "      <td>85.542564</td>\n",
       "      <td>121999500</td>\n",
       "    </tr>\n",
       "    <tr>\n",
       "      <th>5</th>\n",
       "      <td>2012-09-11</td>\n",
       "      <td>95.015717</td>\n",
       "      <td>95.728569</td>\n",
       "      <td>93.785713</td>\n",
       "      <td>94.370003</td>\n",
       "      <td>85.265068</td>\n",
       "      <td>125995800</td>\n",
       "    </tr>\n",
       "    <tr>\n",
       "      <th>6</th>\n",
       "      <td>2012-09-12</td>\n",
       "      <td>95.264282</td>\n",
       "      <td>95.699997</td>\n",
       "      <td>93.714287</td>\n",
       "      <td>95.684288</td>\n",
       "      <td>86.452538</td>\n",
       "      <td>178058300</td>\n",
       "    </tr>\n",
       "    <tr>\n",
       "      <th>7</th>\n",
       "      <td>2012-09-13</td>\n",
       "      <td>96.767143</td>\n",
       "      <td>97.928574</td>\n",
       "      <td>96.395714</td>\n",
       "      <td>97.568573</td>\n",
       "      <td>88.155037</td>\n",
       "      <td>149590000</td>\n",
       "    </tr>\n",
       "    <tr>\n",
       "      <th>8</th>\n",
       "      <td>2012-09-14</td>\n",
       "      <td>98.565712</td>\n",
       "      <td>99.568573</td>\n",
       "      <td>98.269997</td>\n",
       "      <td>98.754288</td>\n",
       "      <td>89.226341</td>\n",
       "      <td>150118500</td>\n",
       "    </tr>\n",
       "    <tr>\n",
       "      <th>9</th>\n",
       "      <td>2012-09-17</td>\n",
       "      <td>99.907143</td>\n",
       "      <td>99.971428</td>\n",
       "      <td>99.230003</td>\n",
       "      <td>99.968575</td>\n",
       "      <td>90.323479</td>\n",
       "      <td>99507800</td>\n",
       "    </tr>\n",
       "  </tbody>\n",
       "</table>\n",
       "</div>"
      ],
      "text/plain": [
       "         Date       Open       High        Low      Close  Adj Close  \\\n",
       "0  2012-09-04  95.108574  96.448570  94.928574  96.424286  87.121140   \n",
       "1  2012-09-05  96.510002  96.621429  95.657143  95.747147  86.509338   \n",
       "2  2012-09-06  96.167145  96.898575  95.828575  96.610001  87.288956   \n",
       "3  2012-09-07  96.864288  97.497147  96.538574  97.205711  87.827171   \n",
       "4  2012-09-10  97.207146  97.612854  94.585716  94.677139  85.542564   \n",
       "5  2012-09-11  95.015717  95.728569  93.785713  94.370003  85.265068   \n",
       "6  2012-09-12  95.264282  95.699997  93.714287  95.684288  86.452538   \n",
       "7  2012-09-13  96.767143  97.928574  96.395714  97.568573  88.155037   \n",
       "8  2012-09-14  98.565712  99.568573  98.269997  98.754288  89.226341   \n",
       "9  2012-09-17  99.907143  99.971428  99.230003  99.968575  90.323479   \n",
       "\n",
       "      Volume  \n",
       "0   91973000  \n",
       "1   84093800  \n",
       "2   97799100  \n",
       "3   82416600  \n",
       "4  121999500  \n",
       "5  125995800  \n",
       "6  178058300  \n",
       "7  149590000  \n",
       "8  150118500  \n",
       "9   99507800  "
      ]
     },
     "execution_count": 7,
     "metadata": {},
     "output_type": "execute_result"
    }
   ],
   "source": [
    "stock_data.head(10)"
   ]
  },
  {
   "cell_type": "code",
   "execution_count": 8,
   "metadata": {
    "colab": {
     "base_uri": "https://localhost:8080/",
     "height": 344
    },
    "id": "_0UQ1jU7MHYi",
    "outputId": "a02590a4-007b-4bba-d8f4-195e292a21e4"
   },
   "outputs": [
    {
     "data": {
      "text/html": [
       "<div>\n",
       "<style scoped>\n",
       "    .dataframe tbody tr th:only-of-type {\n",
       "        vertical-align: middle;\n",
       "    }\n",
       "\n",
       "    .dataframe tbody tr th {\n",
       "        vertical-align: top;\n",
       "    }\n",
       "\n",
       "    .dataframe thead th {\n",
       "        text-align: right;\n",
       "    }\n",
       "</style>\n",
       "<table border=\"1\" class=\"dataframe\">\n",
       "  <thead>\n",
       "    <tr style=\"text-align: right;\">\n",
       "      <th></th>\n",
       "      <th>Open</th>\n",
       "      <th>High</th>\n",
       "      <th>Low</th>\n",
       "      <th>Close</th>\n",
       "      <th>Adj Close</th>\n",
       "      <th>Volume</th>\n",
       "    </tr>\n",
       "  </thead>\n",
       "  <tbody>\n",
       "    <tr>\n",
       "      <th>count</th>\n",
       "      <td>1258.000000</td>\n",
       "      <td>1258.000000</td>\n",
       "      <td>1258.000000</td>\n",
       "      <td>1258.000000</td>\n",
       "      <td>1258.000000</td>\n",
       "      <td>1.258000e+03</td>\n",
       "    </tr>\n",
       "    <tr>\n",
       "      <th>mean</th>\n",
       "      <td>101.852447</td>\n",
       "      <td>102.712367</td>\n",
       "      <td>100.941686</td>\n",
       "      <td>101.838638</td>\n",
       "      <td>97.588172</td>\n",
       "      <td>6.389123e+07</td>\n",
       "    </tr>\n",
       "    <tr>\n",
       "      <th>std</th>\n",
       "      <td>25.736409</td>\n",
       "      <td>25.848582</td>\n",
       "      <td>25.623353</td>\n",
       "      <td>25.767121</td>\n",
       "      <td>26.981921</td>\n",
       "      <td>4.399385e+07</td>\n",
       "    </tr>\n",
       "    <tr>\n",
       "      <th>min</th>\n",
       "      <td>55.424286</td>\n",
       "      <td>57.085712</td>\n",
       "      <td>55.014286</td>\n",
       "      <td>55.790001</td>\n",
       "      <td>50.932652</td>\n",
       "      <td>1.147590e+07</td>\n",
       "    </tr>\n",
       "    <tr>\n",
       "      <th>25%</th>\n",
       "      <td>77.946430</td>\n",
       "      <td>78.596071</td>\n",
       "      <td>76.968212</td>\n",
       "      <td>77.706429</td>\n",
       "      <td>72.252803</td>\n",
       "      <td>3.318375e+07</td>\n",
       "    </tr>\n",
       "    <tr>\n",
       "      <th>50%</th>\n",
       "      <td>101.415001</td>\n",
       "      <td>102.314999</td>\n",
       "      <td>100.560001</td>\n",
       "      <td>101.465000</td>\n",
       "      <td>97.495941</td>\n",
       "      <td>5.100075e+07</td>\n",
       "    </tr>\n",
       "    <tr>\n",
       "      <th>75%</th>\n",
       "      <td>117.925001</td>\n",
       "      <td>119.152498</td>\n",
       "      <td>116.857500</td>\n",
       "      <td>118.180002</td>\n",
       "      <td>114.862888</td>\n",
       "      <td>7.987358e+07</td>\n",
       "    </tr>\n",
       "    <tr>\n",
       "      <th>max</th>\n",
       "      <td>164.800003</td>\n",
       "      <td>164.940002</td>\n",
       "      <td>163.630005</td>\n",
       "      <td>164.050003</td>\n",
       "      <td>164.050003</td>\n",
       "      <td>3.652131e+08</td>\n",
       "    </tr>\n",
       "  </tbody>\n",
       "</table>\n",
       "</div>"
      ],
      "text/plain": [
       "              Open         High          Low        Close    Adj Close  \\\n",
       "count  1258.000000  1258.000000  1258.000000  1258.000000  1258.000000   \n",
       "mean    101.852447   102.712367   100.941686   101.838638    97.588172   \n",
       "std      25.736409    25.848582    25.623353    25.767121    26.981921   \n",
       "min      55.424286    57.085712    55.014286    55.790001    50.932652   \n",
       "25%      77.946430    78.596071    76.968212    77.706429    72.252803   \n",
       "50%     101.415001   102.314999   100.560001   101.465000    97.495941   \n",
       "75%     117.925001   119.152498   116.857500   118.180002   114.862888   \n",
       "max     164.800003   164.940002   163.630005   164.050003   164.050003   \n",
       "\n",
       "             Volume  \n",
       "count  1.258000e+03  \n",
       "mean   6.389123e+07  \n",
       "std    4.399385e+07  \n",
       "min    1.147590e+07  \n",
       "25%    3.318375e+07  \n",
       "50%    5.100075e+07  \n",
       "75%    7.987358e+07  \n",
       "max    3.652131e+08  "
      ]
     },
     "execution_count": 8,
     "metadata": {},
     "output_type": "execute_result"
    }
   ],
   "source": [
    "stock_data.describe()"
   ]
  },
  {
   "cell_type": "code",
   "execution_count": 9,
   "metadata": {
    "colab": {
     "base_uri": "https://localhost:8080/",
     "height": 76
    },
    "id": "dFKhZw-YMM0w",
    "outputId": "da0e55e7-f722-415b-ee9e-937edd41a9c2"
   },
   "outputs": [
    {
     "name": "stdout",
     "output_type": "stream",
     "text": [
      "1258\n"
     ]
    }
   ],
   "source": [
    "stock_data_len = stock_data['Close'].count()\n",
    "print(stock_data_len)"
   ]
  },
  {
   "cell_type": "markdown",
   "metadata": {
    "id": "6jzF16Qr4qOA"
   },
   "source": [
    "I'm only interested in *close* prices"
   ]
  },
  {
   "cell_type": "code",
   "execution_count": 10,
   "metadata": {
    "colab": {
     "base_uri": "https://localhost:8080/",
     "height": 180
    },
    "id": "Ns7Zcn2ZClZS",
    "outputId": "dbae83f5-7bd4-4f55-bb48-d30a71bfa0c6"
   },
   "outputs": [
    {
     "name": "stdout",
     "output_type": "stream",
     "text": [
      "[[ 95.108574]\n",
      " [ 96.510002]\n",
      " [ 96.167145]\n",
      " ...\n",
      " [163.800003]\n",
      " [163.639999]\n",
      " [164.800003]]\n"
     ]
    }
   ],
   "source": [
    "close_prices = stock_data.iloc[:, 1:2].values\n",
    "print(close_prices)"
   ]
  },
  {
   "cell_type": "markdown",
   "metadata": {
    "id": "KNaLuS1X5IVA"
   },
   "source": [
    "Of course, some of the weekdays might be public holidays in which case no price will be available. For this reason, we will fill the missing prices with the latest available prices"
   ]
  },
  {
   "cell_type": "code",
   "execution_count": 11,
   "metadata": {
    "colab": {
     "base_uri": "https://localhost:8080/",
     "height": 199
    },
    "id": "P6GTsn7N5Nf2",
    "outputId": "2c721324-d984-4df5-928c-accb5959e37e"
   },
   "outputs": [
    {
     "name": "stdout",
     "output_type": "stream",
     "text": [
      "DatetimeIndex(['2014-12-01', '2014-12-02', '2014-12-03', '2014-12-04',\n",
      "               '2014-12-05', '2014-12-08', '2014-12-09', '2014-12-10',\n",
      "               '2014-12-11', '2014-12-12',\n",
      "               ...\n",
      "               '2015-12-18', '2015-12-21', '2015-12-22', '2015-12-23',\n",
      "               '2015-12-24', '2015-12-25', '2015-12-28', '2015-12-29',\n",
      "               '2015-12-30', '2015-12-31'],\n",
      "              dtype='datetime64[ns]', length=284, freq='B')\n"
     ]
    }
   ],
   "source": [
    "all_bussinessdays = pd.date_range(start=start_date, end=end_date, freq='B')\n",
    "print(all_bussinessdays)"
   ]
  },
  {
   "cell_type": "code",
   "execution_count": 12,
   "metadata": {
    "id": "NDu-0h2i9MkT"
   },
   "outputs": [],
   "source": [
    "close_prices = stock_data.reindex(all_bussinessdays)\n",
    "close_prices = stock_data.fillna(method='ffill')"
   ]
  },
  {
   "cell_type": "code",
   "execution_count": 13,
   "metadata": {
    "colab": {
     "base_uri": "https://localhost:8080/",
     "height": 437
    },
    "id": "xTieT-gC5e-p",
    "outputId": "a16fcc1e-d25d-4e95-c420-6379157eb4a3"
   },
   "outputs": [
    {
     "data": {
      "text/html": [
       "<div>\n",
       "<style scoped>\n",
       "    .dataframe tbody tr th:only-of-type {\n",
       "        vertical-align: middle;\n",
       "    }\n",
       "\n",
       "    .dataframe tbody tr th {\n",
       "        vertical-align: top;\n",
       "    }\n",
       "\n",
       "    .dataframe thead th {\n",
       "        text-align: right;\n",
       "    }\n",
       "</style>\n",
       "<table border=\"1\" class=\"dataframe\">\n",
       "  <thead>\n",
       "    <tr style=\"text-align: right;\">\n",
       "      <th></th>\n",
       "      <th>Date</th>\n",
       "      <th>Open</th>\n",
       "      <th>High</th>\n",
       "      <th>Low</th>\n",
       "      <th>Close</th>\n",
       "      <th>Adj Close</th>\n",
       "      <th>Volume</th>\n",
       "    </tr>\n",
       "  </thead>\n",
       "  <tbody>\n",
       "    <tr>\n",
       "      <th>0</th>\n",
       "      <td>2012-09-04</td>\n",
       "      <td>95.108574</td>\n",
       "      <td>96.448570</td>\n",
       "      <td>94.928574</td>\n",
       "      <td>96.424286</td>\n",
       "      <td>87.121140</td>\n",
       "      <td>91973000</td>\n",
       "    </tr>\n",
       "    <tr>\n",
       "      <th>1</th>\n",
       "      <td>2012-09-05</td>\n",
       "      <td>96.510002</td>\n",
       "      <td>96.621429</td>\n",
       "      <td>95.657143</td>\n",
       "      <td>95.747147</td>\n",
       "      <td>86.509338</td>\n",
       "      <td>84093800</td>\n",
       "    </tr>\n",
       "    <tr>\n",
       "      <th>2</th>\n",
       "      <td>2012-09-06</td>\n",
       "      <td>96.167145</td>\n",
       "      <td>96.898575</td>\n",
       "      <td>95.828575</td>\n",
       "      <td>96.610001</td>\n",
       "      <td>87.288956</td>\n",
       "      <td>97799100</td>\n",
       "    </tr>\n",
       "    <tr>\n",
       "      <th>3</th>\n",
       "      <td>2012-09-07</td>\n",
       "      <td>96.864288</td>\n",
       "      <td>97.497147</td>\n",
       "      <td>96.538574</td>\n",
       "      <td>97.205711</td>\n",
       "      <td>87.827171</td>\n",
       "      <td>82416600</td>\n",
       "    </tr>\n",
       "    <tr>\n",
       "      <th>4</th>\n",
       "      <td>2012-09-10</td>\n",
       "      <td>97.207146</td>\n",
       "      <td>97.612854</td>\n",
       "      <td>94.585716</td>\n",
       "      <td>94.677139</td>\n",
       "      <td>85.542564</td>\n",
       "      <td>121999500</td>\n",
       "    </tr>\n",
       "    <tr>\n",
       "      <th>5</th>\n",
       "      <td>2012-09-11</td>\n",
       "      <td>95.015717</td>\n",
       "      <td>95.728569</td>\n",
       "      <td>93.785713</td>\n",
       "      <td>94.370003</td>\n",
       "      <td>85.265068</td>\n",
       "      <td>125995800</td>\n",
       "    </tr>\n",
       "    <tr>\n",
       "      <th>6</th>\n",
       "      <td>2012-09-12</td>\n",
       "      <td>95.264282</td>\n",
       "      <td>95.699997</td>\n",
       "      <td>93.714287</td>\n",
       "      <td>95.684288</td>\n",
       "      <td>86.452538</td>\n",
       "      <td>178058300</td>\n",
       "    </tr>\n",
       "    <tr>\n",
       "      <th>7</th>\n",
       "      <td>2012-09-13</td>\n",
       "      <td>96.767143</td>\n",
       "      <td>97.928574</td>\n",
       "      <td>96.395714</td>\n",
       "      <td>97.568573</td>\n",
       "      <td>88.155037</td>\n",
       "      <td>149590000</td>\n",
       "    </tr>\n",
       "    <tr>\n",
       "      <th>8</th>\n",
       "      <td>2012-09-14</td>\n",
       "      <td>98.565712</td>\n",
       "      <td>99.568573</td>\n",
       "      <td>98.269997</td>\n",
       "      <td>98.754288</td>\n",
       "      <td>89.226341</td>\n",
       "      <td>150118500</td>\n",
       "    </tr>\n",
       "    <tr>\n",
       "      <th>9</th>\n",
       "      <td>2012-09-17</td>\n",
       "      <td>99.907143</td>\n",
       "      <td>99.971428</td>\n",
       "      <td>99.230003</td>\n",
       "      <td>99.968575</td>\n",
       "      <td>90.323479</td>\n",
       "      <td>99507800</td>\n",
       "    </tr>\n",
       "  </tbody>\n",
       "</table>\n",
       "</div>"
      ],
      "text/plain": [
       "         Date       Open       High        Low      Close  Adj Close  \\\n",
       "0  2012-09-04  95.108574  96.448570  94.928574  96.424286  87.121140   \n",
       "1  2012-09-05  96.510002  96.621429  95.657143  95.747147  86.509338   \n",
       "2  2012-09-06  96.167145  96.898575  95.828575  96.610001  87.288956   \n",
       "3  2012-09-07  96.864288  97.497147  96.538574  97.205711  87.827171   \n",
       "4  2012-09-10  97.207146  97.612854  94.585716  94.677139  85.542564   \n",
       "5  2012-09-11  95.015717  95.728569  93.785713  94.370003  85.265068   \n",
       "6  2012-09-12  95.264282  95.699997  93.714287  95.684288  86.452538   \n",
       "7  2012-09-13  96.767143  97.928574  96.395714  97.568573  88.155037   \n",
       "8  2012-09-14  98.565712  99.568573  98.269997  98.754288  89.226341   \n",
       "9  2012-09-17  99.907143  99.971428  99.230003  99.968575  90.323479   \n",
       "\n",
       "      Volume  \n",
       "0   91973000  \n",
       "1   84093800  \n",
       "2   97799100  \n",
       "3   82416600  \n",
       "4  121999500  \n",
       "5  125995800  \n",
       "6  178058300  \n",
       "7  149590000  \n",
       "8  150118500  \n",
       "9   99507800  "
      ]
     },
     "execution_count": 13,
     "metadata": {},
     "output_type": "execute_result"
    }
   ],
   "source": [
    "close_prices.head(10)"
   ]
  },
  {
   "cell_type": "markdown",
   "metadata": {
    "id": "06xfVbrD51Id"
   },
   "source": [
    "The dataset is now complete and free of missing values. Let's have a look to the data frame summary:"
   ]
  },
  {
   "cell_type": "markdown",
   "metadata": {
    "id": "TR3_R4OF8pNo"
   },
   "source": [
    "## Feature scaling"
   ]
  },
  {
   "cell_type": "code",
   "execution_count": 14,
   "metadata": {
    "id": "hFwPXHiU8rDv"
   },
   "outputs": [],
   "source": [
    "training_set = close_prices.iloc[:, 1:2].values"
   ]
  },
  {
   "cell_type": "code",
   "execution_count": 15,
   "metadata": {
    "colab": {
     "base_uri": "https://localhost:8080/",
     "height": 180
    },
    "id": "GvPn9l4d-NyM",
    "outputId": "527eeb21-84d2-4818-c971-63369fba5cfa"
   },
   "outputs": [
    {
     "name": "stdout",
     "output_type": "stream",
     "text": [
      "[[ 95.108574]\n",
      " [ 96.510002]\n",
      " [ 96.167145]\n",
      " ...\n",
      " [163.800003]\n",
      " [163.639999]\n",
      " [164.800003]]\n"
     ]
    }
   ],
   "source": [
    "print(training_set)"
   ]
  },
  {
   "cell_type": "code",
   "execution_count": 16,
   "metadata": {
    "colab": {
     "base_uri": "https://localhost:8080/",
     "height": 96
    },
    "id": "c9TpiTPs9QtF",
    "outputId": "c4e0edfc-f000-44e2-8099-00dc9f60533d"
   },
   "outputs": [
    {
     "name": "stdout",
     "output_type": "stream",
     "text": [
      "(1258, 1)\n"
     ]
    }
   ],
   "source": [
    "from sklearn.preprocessing import MinMaxScaler\n",
    "sc = MinMaxScaler(feature_range = (0, 1))\n",
    "training_set_scaled = sc.fit_transform(training_set)\n",
    "print(training_set_scaled.shape)"
   ]
  },
  {
   "cell_type": "markdown",
   "metadata": {
    "id": "NmYp53pYHeQu"
   },
   "source": [
    "LSTMs expect the data in a specific format, usually a 3D tensor. I start by creating data with 60 days and converting it into an array using NumPy. Next, I convert the data into a 3D dimension array with feature_set samples, 60 days and one feature at each step."
   ]
  },
  {
   "cell_type": "code",
   "execution_count": 17,
   "metadata": {
    "id": "HSZBYUcIDfWV"
   },
   "outputs": [],
   "source": [
    "features = []\n",
    "labels = []\n",
    "for i in range(60, stock_data_len):\n",
    "    features.append(training_set_scaled[i-60:i, 0])\n",
    "    labels.append(training_set_scaled[i, 0])\n",
    "\n",
    "features = np.array(features)\n",
    "labels = np.array(labels)\n",
    "\n",
    "features = np.reshape(features, (features.shape[0], features.shape[1], 1))"
   ]
  },
  {
   "cell_type": "code",
   "execution_count": 18,
   "metadata": {
    "colab": {
     "base_uri": "https://localhost:8080/",
     "height": 76
    },
    "id": "gi-GwAE_LDZm",
    "outputId": "2a9d22a3-9661-49f6-f9d8-462b4bedc3a2"
   },
   "outputs": [
    {
     "name": "stdout",
     "output_type": "stream",
     "text": [
      "[0.25968154 0.26864151 0.25316407 ... 0.9908572  0.98939432 1.        ]\n"
     ]
    }
   ],
   "source": [
    "print(labels)"
   ]
  },
  {
   "cell_type": "code",
   "execution_count": 19,
   "metadata": {
    "colab": {
     "base_uri": "https://localhost:8080/",
     "height": 920
    },
    "id": "atE8xU7HLuI2",
    "outputId": "c4c08eb4-e655-48d8-ff4b-10a01e6e66a1"
   },
   "outputs": [
    {
     "name": "stdout",
     "output_type": "stream",
     "text": [
      "[[[0.3628254 ]\n",
      "  [0.37563837]\n",
      "  [0.3725037 ]\n",
      "  ...\n",
      "  [0.26328643]\n",
      "  [0.24724733]\n",
      "  [0.26416156]]\n",
      "\n",
      " [[0.37563837]\n",
      "  [0.3725037 ]\n",
      "  [0.37887753]\n",
      "  ...\n",
      "  [0.24724733]\n",
      "  [0.26416156]\n",
      "  [0.25968154]]\n",
      "\n",
      " [[0.3725037 ]\n",
      "  [0.37887753]\n",
      "  [0.38201222]\n",
      "  ...\n",
      "  [0.26416156]\n",
      "  [0.25968154]\n",
      "  [0.26864151]]\n",
      "\n",
      " ...\n",
      "\n",
      " [[0.90034343]\n",
      "  [0.91058345]\n",
      "  [0.91268626]\n",
      "  ...\n",
      "  [0.95291451]\n",
      "  [0.95739453]\n",
      "  [0.95702888]]\n",
      "\n",
      " [[0.91058345]\n",
      "  [0.91268626]\n",
      "  [0.91213771]\n",
      "  ...\n",
      "  [0.95739453]\n",
      "  [0.95702888]\n",
      "  [0.9908572 ]]\n",
      "\n",
      " [[0.91268626]\n",
      "  [0.91213771]\n",
      "  [0.8257383 ]\n",
      "  ...\n",
      "  [0.95702888]\n",
      "  [0.9908572 ]\n",
      "  [0.98939432]]]\n"
     ]
    }
   ],
   "source": [
    "print(features)"
   ]
  },
  {
   "cell_type": "markdown",
   "metadata": {
    "id": "tfK2gzVI_sTX"
   },
   "source": [
    "Feature tensor with three dimension: features[0] contains the ..., features[1] contains the last 60 days of values and features [2] contains the  ..."
   ]
  },
  {
   "cell_type": "code",
   "execution_count": 20,
   "metadata": {
    "colab": {
     "base_uri": "https://localhost:8080/",
     "height": 76
    },
    "id": "VlzVripUIyCb",
    "outputId": "953aaa65-2d3d-421d-ce8c-87e3b3d93921"
   },
   "outputs": [
    {
     "name": "stdout",
     "output_type": "stream",
     "text": [
      "(1198, 60, 1)\n"
     ]
    }
   ],
   "source": [
    "print(features.shape)"
   ]
  },
  {
   "cell_type": "markdown",
   "metadata": {
    "id": "-MQYJqsDGFYA"
   },
   "source": [
    "## Create the LSTM network\n",
    "Let's create a sequenced LSTM network with 50 units. Also the net includes some dropout layers with 0.2 which means that 20% of the neurons will be dropped."
   ]
  },
  {
   "cell_type": "code",
   "execution_count": 21,
   "metadata": {
    "id": "057FLdkzDk1t"
   },
   "outputs": [
    {
     "name": "stderr",
     "output_type": "stream",
     "text": [
      "2023-02-17 10:45:26.605200: W tensorflow/stream_executor/platform/default/dso_loader.cc:64] Could not load dynamic library 'libcudart.so.11.0'; dlerror: libcudart.so.11.0: cannot open shared object file: No such file or directory\n",
      "2023-02-17 10:45:26.605231: I tensorflow/stream_executor/cuda/cudart_stub.cc:29] Ignore above cudart dlerror if you do not have a GPU set up on your machine.\n"
     ]
    }
   ],
   "source": [
    "import tensorflow as tf"
   ]
  },
  {
   "cell_type": "code",
   "execution_count": 41,
   "metadata": {
    "colab": {
     "base_uri": "https://localhost:8080/",
     "height": 165
    },
    "id": "Tel113HiEcYE",
    "outputId": "9a174bee-e77c-47b6-b7d9-9f48dbf65568"
   },
   "outputs": [],
   "source": [
    "model = tf.keras.models.Sequential()#[\n",
    "input_layer=tf.keras.layers.LSTM(units = 50, return_sequences = True, input_shape = (features.shape[1], 1))\n",
    "model.add(input_layer)\n",
    "input_layer2=tf.keras.layers.Dropout(0.2)\n",
    "input_layer3=tf.keras.layers.LSTM(units = 50, return_sequences = True)\n",
    "input_layer4=tf.keras.layers.Dropout(0.2)\n",
    "input_layer5=tf.keras.layers.LSTM(units = 50, return_sequences = True)\n",
    "input_layer6=tf.keras.layers.Dropout(0.2)\n",
    "input_layer7=tf.keras.layers.LSTM(units = 50)\n",
    "input_layer8=tf.keras.layers.Dropout(0.2)\n",
    "input_layer9=tf.keras.layers.Dense(units = 1)\n",
    "model.add(input_layer2)\n",
    "model.add(input_layer3)\n",
    "model.add(input_layer4)\n",
    "model.add(input_layer5)\n",
    "model.add(input_layer6)\n",
    "model.add(input_layer7)\n",
    "model.add(input_layer8)\n",
    "model.add(input_layer9)\n",
    "#])"
   ]
  },
  {
   "cell_type": "code",
   "execution_count": 42,
   "metadata": {
    "colab": {
     "base_uri": "https://localhost:8080/",
     "height": 532
    },
    "id": "7nlzkKHiPuaR",
    "outputId": "6fa7775e-c4f6-479c-80d8-2dc36f3bf7fc"
   },
   "outputs": [
    {
     "name": "stdout",
     "output_type": "stream",
     "text": [
      "Model: \"sequential_3\"\n",
      "_________________________________________________________________\n",
      " Layer (type)                Output Shape              Param #   \n",
      "=================================================================\n",
      " lstm_9 (LSTM)               (None, 60, 50)            10400     \n",
      "                                                                 \n",
      " dropout_8 (Dropout)         (None, 60, 50)            0         \n",
      "                                                                 \n",
      " lstm_10 (LSTM)              (None, 60, 50)            20200     \n",
      "                                                                 \n",
      " dropout_9 (Dropout)         (None, 60, 50)            0         \n",
      "                                                                 \n",
      " lstm_11 (LSTM)              (None, 60, 50)            20200     \n",
      "                                                                 \n",
      " dropout_10 (Dropout)        (None, 60, 50)            0         \n",
      "                                                                 \n",
      " lstm_12 (LSTM)              (None, 50)                20200     \n",
      "                                                                 \n",
      " dropout_11 (Dropout)        (None, 50)                0         \n",
      "                                                                 \n",
      " dense_2 (Dense)             (None, 1)                 51        \n",
      "                                                                 \n",
      "=================================================================\n",
      "Total params: 71,051\n",
      "Trainable params: 71,051\n",
      "Non-trainable params: 0\n",
      "_________________________________________________________________\n",
      "None\n"
     ]
    }
   ],
   "source": [
    "print(model.summary())"
   ]
  },
  {
   "cell_type": "code",
   "execution_count": 24,
   "metadata": {
    "id": "5W-xbus6hr3B"
   },
   "outputs": [],
   "source": [
    "#tf.keras.utils.plot_model(model, to_file='my_model.png')\n"
   ]
  },
  {
   "cell_type": "code",
   "execution_count": 25,
   "metadata": {
    "id": "Dh55JJQwpK5-"
   },
   "outputs": [],
   "source": [
    "# Run tensorboard with the logdir\n",
    "#import os\n",
    "#LOG_BASE_DIR = './log'\n",
    "#os.makedirs(LOG_BASE_DIR, exist_ok=True)"
   ]
  },
  {
   "cell_type": "code",
   "execution_count": 26,
   "metadata": {
    "id": "z8f8PuP0tuxv"
   },
   "outputs": [],
   "source": [
    "#!ls -l log"
   ]
  },
  {
   "cell_type": "markdown",
   "metadata": {
    "id": "MtpzRCsqvjnQ"
   },
   "source": [
    "## Load the Colab TensorBoard extention and start TensorBoard inline"
   ]
  },
  {
   "cell_type": "code",
   "execution_count": 27,
   "metadata": {
    "id": "AxpGbuaSr9uc"
   },
   "outputs": [],
   "source": [
    "#%load_ext tensorboard.notebook\n",
    "#%tensorboard --logdir {LOG_BASE_DIR}"
   ]
  },
  {
   "cell_type": "markdown",
   "metadata": {
    "id": "KG7MP-S0oVAv"
   },
   "source": [
    "## Define a TensorBoard callback"
   ]
  },
  {
   "cell_type": "code",
   "execution_count": 28,
   "metadata": {
    "id": "Ju7MktT7sX1s"
   },
   "outputs": [],
   "source": [
    "#import datetime\n",
    "#logdir = os.path.join(LOG_BASE_DIR, datetime.datetime.now().strftime(\"%Y%m%d-%H%M%S\"))"
   ]
  },
  {
   "cell_type": "code",
   "execution_count": 29,
   "metadata": {
    "id": "eUl1ilfJnYrR"
   },
   "outputs": [],
   "source": [
    "#from tensorflow.keras.callbacks import TensorBoard\n",
    "\n",
    "#tbCallBack = TensorBoard(logdir,histogram_freq=1)"
   ]
  },
  {
   "cell_type": "markdown",
   "metadata": {
    "id": "TVtDPeEZGmqP"
   },
   "source": [
    "The model will be compiled and optimize by the adam optimizer and set the loss function as mean_squarred_error"
   ]
  },
  {
   "cell_type": "code",
   "execution_count": 43,
   "metadata": {
    "id": "lj9k7R5UFrqO"
   },
   "outputs": [],
   "source": [
    "model.compile(optimizer = 'adam', loss = 'mean_squared_error')"
   ]
  },
  {
   "cell_type": "code",
   "execution_count": 31,
   "metadata": {
    "id": "eW4rvRXENWYC"
   },
   "outputs": [],
   "source": [
    "#import os\n",
    "#print(os.environ)"
   ]
  },
  {
   "cell_type": "code",
   "execution_count": 32,
   "metadata": {
    "id": "3pMuiSsIOAJa"
   },
   "outputs": [],
   "source": [
    "#tf.test.gpu_device_name()"
   ]
  },
  {
   "cell_type": "code",
   "execution_count": 33,
   "metadata": {
    "id": "k3Od5nUSVlJ6"
   },
   "outputs": [],
   "source": [
    "#from tensorflow.python.client import device_lib\n",
    "#device_lib.list_local_devices()"
   ]
  },
  {
   "cell_type": "code",
   "execution_count": 44,
   "metadata": {
    "colab": {
     "base_uri": "https://localhost:8080/",
     "height": 1020
    },
    "id": "vdatQv4CTSvn",
    "outputId": "09e206c3-5194-4c31-e5fb-775654f7cc33"
   },
   "outputs": [
    {
     "name": "stdout",
     "output_type": "stream",
     "text": [
      "Epoch 1/20\n",
      "38/38 [==============================] - 27s 366ms/step - loss: 0.0342\n",
      "Epoch 2/20\n",
      "38/38 [==============================] - 13s 356ms/step - loss: 0.0050\n",
      "Epoch 3/20\n",
      "38/38 [==============================] - 14s 374ms/step - loss: 0.0047\n",
      "Epoch 4/20\n",
      "38/38 [==============================] - 15s 404ms/step - loss: 0.0044\n",
      "Epoch 5/20\n",
      "38/38 [==============================] - 12s 320ms/step - loss: 0.0044\n",
      "Epoch 6/20\n",
      "38/38 [==============================] - 15s 399ms/step - loss: 0.0046\n",
      "Epoch 7/20\n",
      "38/38 [==============================] - 14s 365ms/step - loss: 0.0036\n",
      "Epoch 8/20\n",
      "38/38 [==============================] - 15s 389ms/step - loss: 0.0038\n",
      "Epoch 9/20\n",
      "38/38 [==============================] - 13s 356ms/step - loss: 0.0039\n",
      "Epoch 10/20\n",
      "38/38 [==============================] - 13s 340ms/step - loss: 0.0038\n",
      "Epoch 11/20\n",
      "38/38 [==============================] - 13s 344ms/step - loss: 0.0033\n",
      "Epoch 12/20\n",
      "38/38 [==============================] - 13s 334ms/step - loss: 0.0040\n",
      "Epoch 13/20\n",
      "38/38 [==============================] - 13s 347ms/step - loss: 0.0032\n",
      "Epoch 14/20\n",
      "38/38 [==============================] - 14s 364ms/step - loss: 0.0033\n",
      "Epoch 15/20\n",
      "38/38 [==============================] - 13s 341ms/step - loss: 0.0039\n",
      "Epoch 16/20\n",
      "38/38 [==============================] - 12s 322ms/step - loss: 0.0031\n",
      "Epoch 17/20\n",
      "38/38 [==============================] - 13s 346ms/step - loss: 0.0030\n",
      "Epoch 18/20\n",
      "38/38 [==============================] - 13s 330ms/step - loss: 0.0033\n",
      "Epoch 19/20\n",
      "38/38 [==============================] - 12s 304ms/step - loss: 0.0032\n",
      "Epoch 20/20\n",
      "38/38 [==============================] - 13s 333ms/step - loss: 0.0028\n"
     ]
    }
   ],
   "source": [
    "from time import time\n",
    "start = time()\n",
    "history = model.fit(features, labels, epochs = 20, batch_size = 32, verbose = 1)\n",
    "end = time()"
   ]
  },
  {
   "cell_type": "code",
   "execution_count": 45,
   "metadata": {
    "colab": {
     "base_uri": "https://localhost:8080/",
     "height": 76
    },
    "id": "CMjYNddpWzrs",
    "outputId": "b15440ab-e26f-4e02-a479-6bab89512118"
   },
   "outputs": [
    {
     "name": "stdout",
     "output_type": "stream",
     "text": [
      "Total training time 280.09460949897766 seconds\n"
     ]
    }
   ],
   "source": [
    "print('Total training time {} seconds'.format(end - start))"
   ]
  },
  {
   "cell_type": "code",
   "execution_count": 46,
   "metadata": {
    "colab": {
     "base_uri": "https://localhost:8080/",
     "height": 76
    },
    "id": "0jX-nM6dfJSp",
    "outputId": "6e80dbe3-6699-4863-9931-10540f7fcce9"
   },
   "outputs": [
    {
     "name": "stdout",
     "output_type": "stream",
     "text": [
      "(1198, 60, 1)\n"
     ]
    }
   ],
   "source": [
    "#  [samples, days, features]\n",
    "print(features.shape)"
   ]
  },
  {
   "cell_type": "code",
   "execution_count": 53,
   "metadata": {
    "id": "yztm7-PfI_zx"
   },
   "outputs": [],
   "source": [
    "testing_start_date = '2014-12-05'\n",
    "testing_end_date = '2015-05-05'\n",
    "\n",
    "test_stock_data = pd.read_csv(r'AAPL.csv')"
   ]
  },
  {
   "cell_type": "code",
   "execution_count": 54,
   "metadata": {
    "colab": {
     "base_uri": "https://localhost:8080/",
     "height": 280
    },
    "id": "VXVbTnlWd1iY",
    "outputId": "d17ae639-1e8a-49ea-e593-c13d0e3fdea3"
   },
   "outputs": [
    {
     "data": {
      "text/html": [
       "<div>\n",
       "<style scoped>\n",
       "    .dataframe tbody tr th:only-of-type {\n",
       "        vertical-align: middle;\n",
       "    }\n",
       "\n",
       "    .dataframe tbody tr th {\n",
       "        vertical-align: top;\n",
       "    }\n",
       "\n",
       "    .dataframe thead th {\n",
       "        text-align: right;\n",
       "    }\n",
       "</style>\n",
       "<table border=\"1\" class=\"dataframe\">\n",
       "  <thead>\n",
       "    <tr style=\"text-align: right;\">\n",
       "      <th></th>\n",
       "      <th>Date</th>\n",
       "      <th>Open</th>\n",
       "      <th>High</th>\n",
       "      <th>Low</th>\n",
       "      <th>Close</th>\n",
       "      <th>Adj Close</th>\n",
       "      <th>Volume</th>\n",
       "    </tr>\n",
       "  </thead>\n",
       "  <tbody>\n",
       "    <tr>\n",
       "      <th>1253</th>\n",
       "      <td>2017-08-28</td>\n",
       "      <td>160.139999</td>\n",
       "      <td>162.000000</td>\n",
       "      <td>159.929993</td>\n",
       "      <td>161.470001</td>\n",
       "      <td>161.470001</td>\n",
       "      <td>25966000</td>\n",
       "    </tr>\n",
       "    <tr>\n",
       "      <th>1254</th>\n",
       "      <td>2017-08-29</td>\n",
       "      <td>160.100006</td>\n",
       "      <td>163.119995</td>\n",
       "      <td>160.000000</td>\n",
       "      <td>162.910004</td>\n",
       "      <td>162.910004</td>\n",
       "      <td>29516900</td>\n",
       "    </tr>\n",
       "    <tr>\n",
       "      <th>1255</th>\n",
       "      <td>2017-08-30</td>\n",
       "      <td>163.800003</td>\n",
       "      <td>163.889999</td>\n",
       "      <td>162.610001</td>\n",
       "      <td>163.350006</td>\n",
       "      <td>163.350006</td>\n",
       "      <td>27269600</td>\n",
       "    </tr>\n",
       "    <tr>\n",
       "      <th>1256</th>\n",
       "      <td>2017-08-31</td>\n",
       "      <td>163.639999</td>\n",
       "      <td>164.520004</td>\n",
       "      <td>163.479996</td>\n",
       "      <td>164.000000</td>\n",
       "      <td>164.000000</td>\n",
       "      <td>26785100</td>\n",
       "    </tr>\n",
       "    <tr>\n",
       "      <th>1257</th>\n",
       "      <td>2017-09-01</td>\n",
       "      <td>164.800003</td>\n",
       "      <td>164.940002</td>\n",
       "      <td>163.630005</td>\n",
       "      <td>164.050003</td>\n",
       "      <td>164.050003</td>\n",
       "      <td>16552800</td>\n",
       "    </tr>\n",
       "  </tbody>\n",
       "</table>\n",
       "</div>"
      ],
      "text/plain": [
       "            Date        Open        High         Low       Close   Adj Close  \\\n",
       "1253  2017-08-28  160.139999  162.000000  159.929993  161.470001  161.470001   \n",
       "1254  2017-08-29  160.100006  163.119995  160.000000  162.910004  162.910004   \n",
       "1255  2017-08-30  163.800003  163.889999  162.610001  163.350006  163.350006   \n",
       "1256  2017-08-31  163.639999  164.520004  163.479996  164.000000  164.000000   \n",
       "1257  2017-09-01  164.800003  164.940002  163.630005  164.050003  164.050003   \n",
       "\n",
       "        Volume  \n",
       "1253  25966000  \n",
       "1254  29516900  \n",
       "1255  27269600  \n",
       "1256  26785100  \n",
       "1257  16552800  "
      ]
     },
     "execution_count": 54,
     "metadata": {},
     "output_type": "execute_result"
    }
   ],
   "source": [
    "test_stock_data.tail()"
   ]
  },
  {
   "cell_type": "code",
   "execution_count": 55,
   "metadata": {
    "id": "1iaY63cEJzTD"
   },
   "outputs": [],
   "source": [
    "test_stock_data_processed = test_stock_data.iloc[:, 1:2].values"
   ]
  },
  {
   "cell_type": "code",
   "execution_count": 56,
   "metadata": {
    "colab": {
     "base_uri": "https://localhost:8080/",
     "height": 76
    },
    "id": "QdBH51wlaost",
    "outputId": "489e52a8-d787-4a3e-dc91-51a71cc56558"
   },
   "outputs": [
    {
     "name": "stdout",
     "output_type": "stream",
     "text": [
      "(1258, 1)\n"
     ]
    }
   ],
   "source": [
    "print(test_stock_data_processed.shape)"
   ]
  },
  {
   "cell_type": "code",
   "execution_count": 57,
   "metadata": {
    "id": "q66EIEAXb1Pw"
   },
   "outputs": [],
   "source": [
    "all_stock_data = pd.concat((stock_data['Close'], test_stock_data['Close']), axis = 0)"
   ]
  },
  {
   "cell_type": "code",
   "execution_count": 58,
   "metadata": {
    "id": "ugpDI3hkc8Eo"
   },
   "outputs": [],
   "source": [
    "inputs = all_stock_data[len(all_stock_data) - len(test_stock_data) - 60:].values\n",
    "inputs = inputs.reshape(-1,1)\n",
    "inputs = sc.transform(inputs)"
   ]
  },
  {
   "cell_type": "code",
   "execution_count": 59,
   "metadata": {
    "id": "EMsXM9nEdDXS"
   },
   "outputs": [],
   "source": [
    "X_test = []\n",
    "for i in range(60, 129):\n",
    "    X_test.append(inputs[i-60:i, 0])"
   ]
  },
  {
   "cell_type": "code",
   "execution_count": 60,
   "metadata": {
    "id": "JBo5fWfwek9K"
   },
   "outputs": [
    {
     "name": "stdout",
     "output_type": "stream",
     "text": [
      "3/3 [==============================] - 3s 83ms/step\n"
     ]
    }
   ],
   "source": [
    "X_test = np.array(X_test)\n",
    "X_test = np.reshape(X_test, (X_test.shape[0], X_test.shape[1], 1))\n",
    "predicted_stock_price = model.predict(X_test)\n",
    "predicted_stock_price = sc.inverse_transform(predicted_stock_price)"
   ]
  },
  {
   "cell_type": "code",
   "execution_count": 61,
   "metadata": {
    "colab": {
     "base_uri": "https://localhost:8080/",
     "height": 424
    },
    "id": "EuEl7MRrdLUK",
    "outputId": "f0bc8c11-19c2-4eb4-af11-6189fcab8721"
   },
   "outputs": [
    {
     "data": {
      "image/png": "[encoded data removed]",
      "text/plain": [
       "<Figure size 720x432 with 1 Axes>"
      ]
     },
     "metadata": {
      "needs_background": "light"
     },
     "output_type": "display_data"
    }
   ],
   "source": [
    "plt.figure(figsize=(10,6))  \n",
    "plt.plot(test_stock_data_processed, color='blue', label='Actual Apple Stock Price')  \n",
    "plt.plot(predicted_stock_price , color='red', label='Predicted Apple Stock Price')  \n",
    "plt.title('Apple Stock Price Prediction')  \n",
    "plt.xlabel('Date')  \n",
    "plt.ylabel('Apple Stock Price')  \n",
    "plt.legend()  \n",
    "plt.show()  "
   ]
  },
  {
   "cell_type": "code",
   "execution_count": 63,
   "metadata": {
    "id": "IgIl5LKMKgU4"
   },
   "outputs": [
    {
     "name": "stdout",
     "output_type": "stream",
     "text": [
      "(1258, 1)\n"
     ]
    }
   ],
   "source": [
    "#inputs = inputs.reshape(-1,1)\n",
    "#inputs = sc.transform(inputs)\n",
    "\n",
    "\n",
    "test_inputs = test_stock_data_processed.reshape(-1,1)\n",
    "test_inputs = sc.transform(test_inputs)\n",
    "\n",
    "\n",
    "print(test_inputs.shape)"
   ]
  },
  {
   "cell_type": "code",
   "execution_count": 64,
   "metadata": {
    "id": "1o-fpVjsdPiR"
   },
   "outputs": [],
   "source": [
    "test_features = []\n",
    "for i in range(60, 291):\n",
    "    test_features.append(test_inputs[i-60:i, 0])\n",
    "    \n",
    "test_features = np.array(test_features)"
   ]
  },
  {
   "cell_type": "code",
   "execution_count": 65,
   "metadata": {
    "id": "EFQQ4Hkhcp2b"
   },
   "outputs": [
    {
     "name": "stdout",
     "output_type": "stream",
     "text": [
      "(231, 60, 1)\n"
     ]
    }
   ],
   "source": [
    "test_features = np.reshape(test_features, (test_features.shape[0], test_features.shape[1], 1))  \n",
    "print(test_features.shape)"
   ]
  },
  {
   "cell_type": "code",
   "execution_count": 66,
   "metadata": {
    "id": "TkGzHUBzKuGl"
   },
   "outputs": [
    {
     "name": "stdout",
     "output_type": "stream",
     "text": [
      "8/8 [==============================] - 1s 73ms/step\n"
     ]
    }
   ],
   "source": [
    "predicted_stock_price = model.predict(test_features)"
   ]
  },
  {
   "cell_type": "code",
   "execution_count": 67,
   "metadata": {
    "id": "FZ4hDjOXgmBX"
   },
   "outputs": [
    {
     "name": "stdout",
     "output_type": "stream",
     "text": [
      "(231, 1)\n"
     ]
    }
   ],
   "source": [
    "predicted_stock_price = sc.inverse_transform(predicted_stock_price)\n",
    "print(predicted_stock_price.shape)"
   ]
  },
  {
   "cell_type": "code",
   "execution_count": 68,
   "metadata": {
    "id": "Fz-mr1dT1Omh"
   },
   "outputs": [
    {
     "name": "stdout",
     "output_type": "stream",
     "text": [
      "(1258, 1)\n"
     ]
    }
   ],
   "source": [
    "print(test_stock_data_processed.shape)"
   ]
  },
  {
   "cell_type": "code",
   "execution_count": 69,
   "metadata": {
    "id": "Alsqt3-lgsfj"
   },
   "outputs": [
    {
     "data": {
      "image/png": "[encoded data removed]",
      "text/plain": [
       "<Figure size 720x432 with 1 Axes>"
      ]
     },
     "metadata": {
      "needs_background": "light"
     },
     "output_type": "display_data"
    }
   ],
   "source": [
    "plt.figure(figsize=(10,6))  \n",
    "plt.plot(test_stock_data_processed, color='blue', label='Actual Apple Stock Price')  \n",
    "plt.plot(predicted_stock_price , color='red', label='Predicted Apple Stock Price')  \n",
    "plt.title('Apple Stock Price Prediction')  \n",
    "plt.xlabel('Date')  \n",
    "plt.ylabel('Apple Stock Price')  \n",
    "plt.legend()  \n",
    "plt.show()  "
   ]
  },
  {
   "cell_type": "markdown",
   "metadata": {
    "id": "mPYS78ikjcIa"
   },
   "source": [
    "## Download the model and the weights"
   ]
  },
  {
   "cell_type": "code",
   "execution_count": null,
   "metadata": {
    "id": "knvmvzsZjN1r"
   },
   "outputs": [],
   "source": [
    "from google.colab import files"
   ]
  },
  {
   "cell_type": "code",
   "execution_count": 71,
   "metadata": {
    "id": "zlfsWuIPi48Y"
   },
   "outputs": [],
   "source": [
    "model_json = model.to_json()\n",
    "with open(\"model.json\", \"w\") as json_file:\n",
    "  json_file.write(model_json)"
   ]
  },
  {
   "cell_type": "code",
   "execution_count": null,
   "metadata": {
    "id": "t_Zig-9ojIQK"
   },
   "outputs": [],
   "source": [
    "files.download(\"model.json\")"
   ]
  },
  {
   "cell_type": "code",
   "execution_count": null,
   "metadata": {
    "id": "VQBt2bNCjVGb"
   },
   "outputs": [],
   "source": [
    "model.save('weights.h5')\n",
    "files.download('weights.h5')"
   ]
  }
 ],
 "metadata": {
  "accelerator": "GPU",
  "colab": {
   "collapsed_sections": [
    "mPYS78ikjcIa"
   ],
   "name": "stock-price-prediction-keras.ipynb",
   "provenance": []
  },
  "kernelspec": {
   "display_name": "default:Python",
   "language": "python",
   "name": "conda-env-default-py"
  },
  "language_info": {
   "codemirror_mode": {
    "name": "ipython",
    "version": 3
   },
   "file_extension": ".py",
   "mimetype": "text/x-python",
   "name": "python",
   "nbconvert_exporter": "python",
   "pygments_lexer": "ipython3",
   "version": "3.9.9"
  }
 },
 "nbformat": 4,
 "nbformat_minor": 4
}
